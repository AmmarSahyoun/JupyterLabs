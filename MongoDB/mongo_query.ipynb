{
 "cells": [
  {
   "cell_type": "code",
   "execution_count": 8,
   "id": "3da75916-0bf1-48f8-9c8a-9d6a17623c99",
   "metadata": {},
   "outputs": [],
   "source": [
    "from pymongo import MongoClient"
   ]
  },
  {
   "cell_type": "code",
   "execution_count": 13,
   "id": "9c324c7c-51cd-4e08-8139-12bb13300c90",
   "metadata": {},
   "outputs": [
    {
     "data": {
      "text/plain": [
       "['admin', 'config', 'local', 'training']"
      ]
     },
     "execution_count": 13,
     "metadata": {},
     "output_type": "execute_result"
    }
   ],
   "source": [
    "cl = MongoClient('localhost', 27017)\n",
    "cl.list_database_names()"
   ]
  },
  {
   "cell_type": "code",
   "execution_count": 14,
   "id": "4c1bc18e-9844-4400-a7e4-47c290c9b584",
   "metadata": {},
   "outputs": [
    {
     "data": {
      "text/plain": [
       "['marks', 'training']"
      ]
     },
     "execution_count": 14,
     "metadata": {},
     "output_type": "execute_result"
    }
   ],
   "source": [
    "db = cl.training\n",
    "db.list_collection_names()"
   ]
  },
  {
   "cell_type": "code",
   "execution_count": 17,
   "id": "0b95dd86-0470-4857-8e43-426a7796954e",
   "metadata": {},
   "outputs": [],
   "source": [
    "# db.folk.drop()  #frop collection 'folk' inside training database"
   ]
  },
  {
   "cell_type": "code",
   "execution_count": 25,
   "id": "920a4802-d000-4757-8ba5-b523fc1c4ea4",
   "metadata": {},
   "outputs": [],
   "source": [
    "coll = db.python"
   ]
  },
  {
   "cell_type": "code",
   "execution_count": 26,
   "id": "dfba93d6-0860-442c-bfca-fe5607b62f6b",
   "metadata": {},
   "outputs": [],
   "source": [
    "doc = {\"lab\":\"Accessing mongodb using python\", \"Subject\":\"No SQL Databases\"}"
   ]
  },
  {
   "cell_type": "code",
   "execution_count": 27,
   "id": "369de5f2-e42d-4359-8f6b-5b9a6a7fc2db",
   "metadata": {},
   "outputs": [
    {
     "name": "stdout",
     "output_type": "stream",
     "text": [
      "Inserting a document into collection.\n"
     ]
    },
    {
     "data": {
      "text/plain": [
       "<pymongo.results.InsertOneResult at 0x211cc3f8100>"
      ]
     },
     "execution_count": 27,
     "metadata": {},
     "output_type": "execute_result"
    }
   ],
   "source": [
    "print(\"Inserting a document into collection.\")\n",
    "coll.insert_one(doc)"
   ]
  },
  {
   "cell_type": "code",
   "execution_count": 30,
   "id": "95de7940-6de6-462e-a136-4a8bb22ba17a",
   "metadata": {},
   "outputs": [
    {
     "name": "stdout",
     "output_type": "stream",
     "text": [
      "Printing the documents in the collection.\n",
      "{'_id': ObjectId('61cb656c949f734f735998f9'), 'lab': 'Accessing mongodb using python', 'Subject': 'No SQL Databases'}\n"
     ]
    }
   ],
   "source": [
    "docs = coll.find()\n",
    "print(\"Printing the documents in the collection.\")\n",
    "for d in docs:\n",
    "    print(d)"
   ]
  },
  {
   "cell_type": "code",
   "execution_count": 32,
   "id": "3a82a663-01f4-478a-bf91-83311fb94f16",
   "metadata": {},
   "outputs": [
    {
     "name": "stdout",
     "output_type": "stream",
     "text": [
      "Closing the connection.\n"
     ]
    }
   ],
   "source": [
    "print(\"Closing the connection.\")\n",
    "cl.close()"
   ]
  }
 ],
 "metadata": {
  "kernelspec": {
   "display_name": "mong",
   "language": "python",
   "name": "mong"
  },
  "language_info": {
   "codemirror_mode": {
    "name": "ipython",
    "version": 3
   },
   "file_extension": ".py",
   "mimetype": "text/x-python",
   "name": "python",
   "nbconvert_exporter": "python",
   "pygments_lexer": "ipython3",
   "version": "3.9.9"
  }
 },
 "nbformat": 4,
 "nbformat_minor": 5
}
