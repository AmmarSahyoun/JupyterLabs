{
 "cells": [
  {
   "cell_type": "code",
   "execution_count": 20,
   "id": "9ffe8ffe-c93a-4bf8-9f1f-80d8773f59b7",
   "metadata": {},
   "outputs": [],
   "source": [
    "from pymongo import MongoClient"
   ]
  },
  {
   "cell_type": "code",
   "execution_count": 21,
   "id": "50186582-17de-432e-9b08-4995bea7763f",
   "metadata": {},
   "outputs": [
    {
     "data": {
      "text/plain": [
       "['admin', 'config', 'local', 'training']"
      ]
     },
     "execution_count": 21,
     "metadata": {},
     "output_type": "execute_result"
    }
   ],
   "source": [
    "cl = MongoClient('localhost', 27017)\n",
    "cl.list_database_names()"
   ]
  },
  {
   "cell_type": "code",
   "execution_count": 22,
   "id": "f8b89c41-73b8-4cea-8d41-9a84c66b57d8",
   "metadata": {},
   "outputs": [
    {
     "data": {
      "text/plain": [
       "['python', 'marks']"
      ]
     },
     "execution_count": 22,
     "metadata": {},
     "output_type": "execute_result"
    }
   ],
   "source": [
    "db = cl.training\n",
    "db.list_collection_names()"
   ]
  },
  {
   "cell_type": "code",
   "execution_count": 23,
   "id": "dd027a6a-02eb-432d-8d34-de29783f628c",
   "metadata": {},
   "outputs": [],
   "source": [
    "coll = db.mongodb_glossary"
   ]
  },
  {
   "cell_type": "code",
   "execution_count": 24,
   "id": "6d1dc67f-18d7-4c33-a29e-96567fc9b69e",
   "metadata": {},
   "outputs": [],
   "source": [
    "doc1 = {\"database\":\"a database contains collections\"}\n",
    "doc2 = {\"collection\":\"a collection stores the documents\"}\n",
    "doc3 = {\"document\":\"a document contains the data in the form or key value pairs.\"}"
   ]
  },
  {
   "cell_type": "code",
   "execution_count": 25,
   "id": "9a2b8113-4659-4665-aa63-b7a2ca6023f0",
   "metadata": {},
   "outputs": [
    {
     "name": "stdout",
     "output_type": "stream",
     "text": [
      "Inserting documents into collection.\n"
     ]
    },
    {
     "data": {
      "text/plain": [
       "<pymongo.results.InsertOneResult at 0x232afcb7a00>"
      ]
     },
     "execution_count": 25,
     "metadata": {},
     "output_type": "execute_result"
    }
   ],
   "source": [
    "print(\"Inserting documents into collection.\")\n",
    "\n",
    "coll.insert_one(doc1)\n",
    "coll.insert_one(doc2)\n",
    "coll.insert_one(doc3)"
   ]
  },
  {
   "cell_type": "code",
   "execution_count": 26,
   "id": "745e05f8-306a-4305-95d2-0bdfce373ce6",
   "metadata": {},
   "outputs": [
    {
     "name": "stdout",
     "output_type": "stream",
     "text": [
      "Printing the documents in the collection.\n",
      "{'_id': ObjectId('61cb6fc04addde511388f4f5'), 'database': 'a database contains collections'}\n",
      "{'_id': ObjectId('61cb6fc04addde511388f4f6'), 'collection': 'a collection stores the documents'}\n",
      "{'_id': ObjectId('61cb6fc04addde511388f4f7'), 'document': 'a document contains the data in the form or key value pairs.'}\n"
     ]
    }
   ],
   "source": [
    "print(\"Printing the documents in the collection.\")\n",
    "docs = coll.find()\n",
    "for d in docs:\n",
    "    print(d)"
   ]
  },
  {
   "cell_type": "code",
   "execution_count": 27,
   "id": "f224119f-da7a-415f-a730-9ee383f5feb9",
   "metadata": {},
   "outputs": [
    {
     "name": "stdout",
     "output_type": "stream",
     "text": [
      "Closing the connection.\n"
     ]
    }
   ],
   "source": [
    "print(\"Closing the connection.\")\n",
    "cl.close()"
   ]
  },
  {
   "cell_type": "code",
   "execution_count": null,
   "id": "fe94bb96-c32c-49af-908c-ddf0be5988c9",
   "metadata": {},
   "outputs": [],
   "source": []
  }
 ],
 "metadata": {
  "kernelspec": {
   "display_name": "mong",
   "language": "python",
   "name": "mong"
  },
  "language_info": {
   "codemirror_mode": {
    "name": "ipython",
    "version": 3
   },
   "file_extension": ".py",
   "mimetype": "text/x-python",
   "name": "python",
   "nbconvert_exporter": "python",
   "pygments_lexer": "ipython3",
   "version": "3.9.9"
  }
 },
 "nbformat": 4,
 "nbformat_minor": 5
}
