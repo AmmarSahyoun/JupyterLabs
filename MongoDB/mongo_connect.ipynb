{
 "cells": [
  {
   "cell_type": "code",
   "execution_count": 2,
   "id": "f22e453a-d940-4c57-b275-a2927fff5ee5",
   "metadata": {},
   "outputs": [],
   "source": [
    "from pymongo import MongoClient"
   ]
  },
  {
   "cell_type": "code",
   "execution_count": 4,
   "id": "ddd7a146-8ec2-4e17-b0e1-74609c130e16",
   "metadata": {},
   "outputs": [
    {
     "name": "stdout",
     "output_type": "stream",
     "text": [
      "Getting list of databases\n"
     ]
    },
    {
     "data": {
      "text/plain": [
       "['admin', 'config', 'local', 'training']"
      ]
     },
     "execution_count": 4,
     "metadata": {},
     "output_type": "execute_result"
    }
   ],
   "source": [
    "cl = MongoClient('localhost', 27017)\n",
    "print(\"Getting list of databases\")\n",
    "dbs = cl.list_database_names()\n",
    "dbs"
   ]
  },
  {
   "cell_type": "code",
   "execution_count": 6,
   "id": "91d7afb6-601c-436d-a930-e435a9d823aa",
   "metadata": {},
   "outputs": [
    {
     "name": "stdout",
     "output_type": "stream",
     "text": [
      "admin\n",
      "config\n",
      "local\n",
      "training\n",
      "Closing the connection to the mongodb server\n"
     ]
    }
   ],
   "source": [
    "for db in dbs:\n",
    "    print(db)\n",
    "print(\"Closing the connection to the mongodb server\")\n",
    "cl.close()"
   ]
  },
  {
   "cell_type": "code",
   "execution_count": null,
   "id": "2a29ce45-bcb4-4d8b-bd64-baa89e39faeb",
   "metadata": {},
   "outputs": [],
   "source": []
  },
  {
   "cell_type": "code",
   "execution_count": 3,
   "id": "8cc61163-57f3-4ab9-b086-851e3b5b4f90",
   "metadata": {},
   "outputs": [],
   "source": []
  },
  {
   "cell_type": "code",
   "execution_count": 4,
   "id": "b93da592-fec3-48a6-8517-7a30afd001eb",
   "metadata": {},
   "outputs": [],
   "source": []
  },
  {
   "cell_type": "code",
   "execution_count": 5,
   "id": "db36ee8b-4c2f-4c4c-ac52-aaa82edd2103",
   "metadata": {},
   "outputs": [],
   "source": []
  },
  {
   "cell_type": "code",
   "execution_count": null,
   "id": "a0acc8fe-e727-4e85-bec3-d73bf89be096",
   "metadata": {},
   "outputs": [],
   "source": []
  }
 ],
 "metadata": {
  "kernelspec": {
   "display_name": "mong",
   "language": "python",
   "name": "mong"
  },
  "language_info": {
   "codemirror_mode": {
    "name": "ipython",
    "version": 3
   },
   "file_extension": ".py",
   "mimetype": "text/x-python",
   "name": "python",
   "nbconvert_exporter": "python",
   "pygments_lexer": "ipython3",
   "version": "3.9.9"
  }
 },
 "nbformat": 4,
 "nbformat_minor": 5
}
