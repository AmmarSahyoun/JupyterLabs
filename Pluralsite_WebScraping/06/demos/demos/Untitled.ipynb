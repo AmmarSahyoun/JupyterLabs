{
 "cells": [
  {
   "cell_type": "code",
   "execution_count": 61,
   "id": "7867e071-8ba0-4166-8bcb-b997afa5c8ab",
   "metadata": {},
   "outputs": [],
   "source": [
    "from math import ceil, log"
   ]
  },
  {
   "cell_type": "code",
   "execution_count": 38,
   "id": "c76b684c-5da9-4546-a718-9668040fb501",
   "metadata": {},
   "outputs": [
    {
     "data": {
      "text/plain": [
       "-3"
      ]
     },
     "execution_count": 38,
     "metadata": {},
     "output_type": "execute_result"
    }
   ],
   "source": [
    "math.ceil(-3.1)"
   ]
  },
  {
   "cell_type": "code",
   "execution_count": 39,
   "id": "08e86d8a-c32f-467c-b16f-e432412e3b2b",
   "metadata": {},
   "outputs": [
    {
     "data": {
      "text/plain": [
       "301"
      ]
     },
     "execution_count": 39,
     "metadata": {},
     "output_type": "execute_result"
    }
   ],
   "source": [
    "math.ceil(300.16)"
   ]
  },
  {
   "cell_type": "code",
   "execution_count": 42,
   "id": "5efe0cf5-14fe-4ee5-a2e7-f7fce1a324fe",
   "metadata": {},
   "outputs": [
    {
     "name": "stdin",
     "output_type": "stream",
     "text": [
      " 5\n"
     ]
    },
    {
     "data": {
      "text/plain": [
       "5.0"
      ]
     },
     "execution_count": 42,
     "metadata": {},
     "output_type": "execute_result"
    }
   ],
   "source": [
    "inp = input()\n",
    "line = float(inp.strip())\n",
    "line"
   ]
  },
  {
   "cell_type": "code",
   "execution_count": 80,
   "id": "a70323e1-a72e-44be-8d11-44a2cae8dbac",
   "metadata": {},
   "outputs": [
    {
     "data": {
      "text/plain": [
       "3.0"
      ]
     },
     "execution_count": 80,
     "metadata": {},
     "output_type": "execute_result"
    }
   ],
   "source": [
    "math.log(7, 2)"
   ]
  },
  {
   "cell_type": "code",
   "execution_count": null,
   "id": "2e34972e-7459-4fa6-9ff6-ba8f5dd93b37",
   "metadata": {},
   "outputs": [],
   "source": []
  },
  {
   "cell_type": "code",
   "execution_count": 93,
   "id": "54a53eed-e377-4276-9c09-f473336444e7",
   "metadata": {},
   "outputs": [
    {
     "name": "stdout",
     "output_type": "stream",
     "text": [
      "1 .... 1\n",
      "2 .... 2\n",
      "3 .... 3\n",
      "4 .... 3\n",
      "5 .... 4\n",
      "6 .... 4\n",
      "7 .... 4\n",
      "8 .... 4\n",
      "9 .... 5\n",
      "10 .... 5\n",
      "11 .... 5\n",
      "12 .... 5\n",
      "13 .... 5\n",
      "14 .... 5\n",
      "15 .... 5\n",
      "16 .... 5\n",
      "17 .... 6\n",
      "18 .... 6\n",
      "19 .... 6\n"
     ]
    }
   ],
   "source": [
    "for i in range (1,20):\n",
    "    line = float(i)\n",
    "    print(i, '....', int(ceil(log(line, 2) + 1)))"
   ]
  },
  {
   "cell_type": "code",
   "execution_count": 69,
   "id": "58e57d9f-4d50-41f7-9981-7912c0cb8fb9",
   "metadata": {},
   "outputs": [
    {
     "data": {
      "text/plain": [
       "6"
      ]
     },
     "execution_count": 69,
     "metadata": {},
     "output_type": "execute_result"
    }
   ],
   "source": [
    "ceil(log(17, 2)+1)"
   ]
  },
  {
   "cell_type": "code",
   "execution_count": 86,
   "id": "dbe1b316-c347-4204-8e66-792fa3c2fd29",
   "metadata": {},
   "outputs": [
    {
     "name": "stdout",
     "output_type": "stream",
     "text": [
      "statues= 1 ...days: 0.0\n",
      "statues= 2 ...days: 1.0\n",
      "statues= 3 ...days: 1.5849625007211563\n",
      "statues= 4 ...days: 2.0\n",
      "statues= 5 ...days: 2.321928094887362\n",
      "statues= 6 ...days: 2.584962500721156\n",
      "statues= 7 ...days: 2.807354922057604\n",
      "statues= 8 ...days: 3.0\n",
      "statues= 9 ...days: 3.1699250014423126\n",
      "statues= 10 ...days: 3.3219280948873626\n",
      "statues= 11 ...days: 3.4594316186372978\n",
      "statues= 12 ...days: 3.5849625007211565\n",
      "statues= 13 ...days: 3.700439718141092\n",
      "statues= 14 ...days: 3.8073549220576037\n",
      "statues= 15 ...days: 3.9068905956085187\n",
      "statues= 16 ...days: 4.0\n",
      "statues= 17 ...days: 4.08746284125034\n",
      "statues= 18 ...days: 4.169925001442312\n",
      "statues= 19 ...days: 4.247927513443585\n",
      "statues= 20 ...days: 4.321928094887363\n",
      "statues= 21 ...days: 4.392317422778761\n",
      "statues= 22 ...days: 4.459431618637297\n",
      "statues= 23 ...days: 4.523561956057013\n",
      "statues= 24 ...days: 4.584962500721157\n",
      "statues= 25 ...days: 4.643856189774724\n",
      "statues= 26 ...days: 4.700439718141093\n",
      "statues= 27 ...days: 4.754887502163469\n",
      "statues= 28 ...days: 4.807354922057604\n",
      "statues= 29 ...days: 4.857980995127573\n"
     ]
    }
   ],
   "source": [
    "for i in range(1, 30):\n",
    "    print('statues=',i , '...days:' , log(i, 2))"
   ]
  },
  {
   "cell_type": "code",
   "execution_count": null,
   "id": "e61dab45-ecca-48cc-849c-1159414e0781",
   "metadata": {},
   "outputs": [],
   "source": []
  },
  {
   "cell_type": "code",
   "execution_count": null,
   "id": "38010588-5cc1-40dd-ada3-cf21405dfb5b",
   "metadata": {},
   "outputs": [],
   "source": []
  },
  {
   "cell_type": "code",
   "execution_count": null,
   "id": "90b9faa5-35a5-4249-a361-ad64e3fd365b",
   "metadata": {},
   "outputs": [],
   "source": []
  },
  {
   "cell_type": "code",
   "execution_count": null,
   "id": "0a8dce14-0a29-45f3-8685-8b8834569864",
   "metadata": {},
   "outputs": [],
   "source": []
  },
  {
   "cell_type": "code",
   "execution_count": null,
   "id": "2741ecc6-54e7-4041-bfd7-a945e46e0da9",
   "metadata": {},
   "outputs": [],
   "source": []
  },
  {
   "cell_type": "code",
   "execution_count": null,
   "id": "60a98586-678f-48c9-ad25-4e35400cea33",
   "metadata": {},
   "outputs": [],
   "source": []
  },
  {
   "cell_type": "code",
   "execution_count": null,
   "id": "72426878-83ce-4fe5-b9f5-c5cf0addb1c8",
   "metadata": {},
   "outputs": [],
   "source": []
  },
  {
   "cell_type": "code",
   "execution_count": null,
   "id": "e5374b37-46c7-488b-91c1-3f5ae845f096",
   "metadata": {},
   "outputs": [],
   "source": []
  },
  {
   "cell_type": "code",
   "execution_count": null,
   "id": "edbad916-a0ef-42b0-a68c-37eecec357aa",
   "metadata": {},
   "outputs": [],
   "source": []
  },
  {
   "cell_type": "code",
   "execution_count": 87,
   "id": "33993d68-9946-45b9-88f6-c6466e3b21d1",
   "metadata": {},
   "outputs": [
    {
     "ename": "SyntaxError",
     "evalue": "invalid syntax (Temp/ipykernel_19576/2467521624.py, line 8)",
     "output_type": "error",
     "traceback": [
      "\u001b[1;36m  File \u001b[1;32m\"C:\\Users\\Ammar\\AppData\\Local\\Temp/ipykernel_19576/2467521624.py\"\u001b[1;36m, line \u001b[1;32m8\u001b[0m\n\u001b[1;33m    result = ceil(log(num, 2)+1)\u001b[0m\n\u001b[1;37m    ^\u001b[0m\n\u001b[1;31mSyntaxError\u001b[0m\u001b[1;31m:\u001b[0m invalid syntax\n"
     ]
    }
   ],
   "source": [
    "from math import log, ceil\n",
    "import sys\n",
    "\n",
    "\n",
    "num = sys.stdin.read()\n",
    "num = float(num.strip('\\n')\n",
    "\n",
    "result = ceil(log(num, 2)+1)\n",
    "print(result)"
   ]
  },
  {
   "cell_type": "code",
   "execution_count": null,
   "id": "79e3d950-54b2-4b01-888d-f71b192d78df",
   "metadata": {},
   "outputs": [],
   "source": []
  }
 ],
 "metadata": {
  "kernelspec": {
   "display_name": "Python 3 (ipykernel)",
   "language": "python",
   "name": "python3"
  },
  "language_info": {
   "codemirror_mode": {
    "name": "ipython",
    "version": 3
   },
   "file_extension": ".py",
   "mimetype": "text/x-python",
   "name": "python",
   "nbconvert_exporter": "python",
   "pygments_lexer": "ipython3",
   "version": "3.9.5"
  }
 },
 "nbformat": 4,
 "nbformat_minor": 5
}
