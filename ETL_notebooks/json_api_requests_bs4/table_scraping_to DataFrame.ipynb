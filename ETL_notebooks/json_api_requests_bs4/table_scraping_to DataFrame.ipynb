{
 "cells": [
  {
   "cell_type": "code",
   "execution_count": 3,
   "id": "e9d1c6e6-fe06-48c3-ad64-560725d3de01",
   "metadata": {},
   "outputs": [],
   "source": [
    "from bs4 import BeautifulSoup\n",
    "import requests\n",
    "import pandas as pd"
   ]
  },
  {
   "cell_type": "markdown",
   "id": "e3ae2b72-df1b-4082-86f6-3c8dd8a8c0d6",
   "metadata": {},
   "source": [
    "### In case there are many tables in the page"
   ]
  },
  {
   "cell_type": "code",
   "execution_count": 4,
   "id": "b3548386-d862-4845-bc4a-fbd7f9acac4c",
   "metadata": {},
   "outputs": [],
   "source": [
    "url = \"https://pt.wikipedia.org/wiki/Lista_de_bairros_de_Manaus\"\n",
    "content = requests.get(url).text  #download the web page contents\n",
    "soup = BeautifulSoup(content, 'html.parser')\n",
    "tables = soup.find_all('table')"
   ]
  },
  {
   "cell_type": "code",
   "execution_count": 5,
   "id": "a8c1d54f-3af7-4dd5-8f30-5363b17357e7",
   "metadata": {},
   "outputs": [
    {
     "data": {
      "text/plain": [
       "[['box-Desatualizado', 'plainlinks', 'metadata', 'ambox', 'ambox-content'],\n",
       " ['wikitable', 'sortable'],\n",
       " ['nowraplinks', 'collapsible', 'collapsed', 'navbox-inner']]"
      ]
     },
     "execution_count": 5,
     "metadata": {},
     "output_type": "execute_result"
    }
   ],
   "source": [
    "[obj.get(\"class\") for obj in tables] #show all table classes"
   ]
  },
  {
   "cell_type": "code",
   "execution_count": 11,
   "id": "50c6f326-947a-49dd-b4e9-4aa5629bcfc7",
   "metadata": {},
   "outputs": [],
   "source": [
    "table = soup.find('table', class_='wikitable sortable')  # Create object of our table accoring to its HTML_class\n",
    "df = pd.DataFrame(columns=['Neighborhood', 'Zone', 'Area', 'Population', 'Density', 'Homes_count'])"
   ]
  },
  {
   "cell_type": "markdown",
   "id": "900c7d45-4b1b-4255-a3cc-fe10c444a308",
   "metadata": {},
   "source": [
    "<img src=\"../json_api_requests_bs4/table.JPG\">"
   ]
  },
  {
   "cell_type": "code",
   "execution_count": 12,
   "id": "bdd2de68-76ec-4b0e-b544-dd3c22bad72f",
   "metadata": {},
   "outputs": [
    {
     "data": {
      "text/html": [
       "<div>\n",
       "<style scoped>\n",
       "    .dataframe tbody tr th:only-of-type {\n",
       "        vertical-align: middle;\n",
       "    }\n",
       "\n",
       "    .dataframe tbody tr th {\n",
       "        vertical-align: top;\n",
       "    }\n",
       "\n",
       "    .dataframe thead th {\n",
       "        text-align: right;\n",
       "    }\n",
       "</style>\n",
       "<table border=\"1\" class=\"dataframe\">\n",
       "  <thead>\n",
       "    <tr style=\"text-align: right;\">\n",
       "      <th></th>\n",
       "      <th>Neighborhood</th>\n",
       "      <th>Zone</th>\n",
       "      <th>Area</th>\n",
       "      <th>Population</th>\n",
       "      <th>Density</th>\n",
       "      <th>Homes_count</th>\n",
       "    </tr>\n",
       "  </thead>\n",
       "  <tbody>\n",
       "    <tr>\n",
       "      <th>0</th>\n",
       "      <td>Adrianópolis</td>\n",
       "      <td>Centro-Sul</td>\n",
       "      <td>248.45</td>\n",
       "      <td>10459</td>\n",
       "      <td>3560.88</td>\n",
       "      <td>3224</td>\n",
       "    </tr>\n",
       "    <tr>\n",
       "      <th>1</th>\n",
       "      <td>Aleixo</td>\n",
       "      <td>Centro-Sul</td>\n",
       "      <td>618.34</td>\n",
       "      <td>24417</td>\n",
       "      <td>3340.4</td>\n",
       "      <td>6101</td>\n",
       "    </tr>\n",
       "    <tr>\n",
       "      <th>2</th>\n",
       "      <td>Alvorada</td>\n",
       "      <td>Centro-Oeste</td>\n",
       "      <td>553.18</td>\n",
       "      <td>76392</td>\n",
       "      <td>11681.73</td>\n",
       "      <td>18193</td>\n",
       "    </tr>\n",
       "    <tr>\n",
       "      <th>3</th>\n",
       "      <td>Armando Mendes</td>\n",
       "      <td>Leste</td>\n",
       "      <td>307.65</td>\n",
       "      <td>33441</td>\n",
       "      <td>9194.86</td>\n",
       "      <td>7402</td>\n",
       "    </tr>\n",
       "    <tr>\n",
       "      <th>4</th>\n",
       "      <td>Betânia</td>\n",
       "      <td>Sul</td>\n",
       "      <td>52.51</td>\n",
       "      <td>1294</td>\n",
       "      <td>20845.55</td>\n",
       "      <td>3119</td>\n",
       "    </tr>\n",
       "  </tbody>\n",
       "</table>\n",
       "</div>"
      ],
      "text/plain": [
       "     Neighborhood          Zone    Area Population   Density Homes_count\n",
       "0    Adrianópolis    Centro-Sul  248.45      10459   3560.88        3224\n",
       "1          Aleixo    Centro-Sul  618.34      24417    3340.4        6101\n",
       "2        Alvorada  Centro-Oeste  553.18      76392  11681.73       18193\n",
       "3  Armando Mendes         Leste  307.65      33441   9194.86        7402\n",
       "4         Betânia           Sul   52.51       1294  20845.55        3119"
      ]
     },
     "execution_count": 12,
     "metadata": {},
     "output_type": "execute_result"
    }
   ],
   "source": [
    "for row in table.tbody.find_all('tr'):    \n",
    "    columns = row.find_all('td')\n",
    "    \n",
    "    if(columns != []):\n",
    "        neighborhood = columns[0].text.strip()\n",
    "        zone = columns[1].text.strip()\n",
    "        area = columns[2].span.contents[0].strip('&0.')\n",
    "        population = columns[3].span.contents[0].strip('&0.')\n",
    "        density = columns[4].span.contents[0].strip('&0.')\n",
    "        homes_count = columns[5].span.contents[0].strip('&0.')\n",
    "\n",
    "        df = df.append({'Neighborhood': neighborhood,  'Zone': zone, \n",
    "                        'Area': area, 'Population': population, 'Density': density, 'Homes_count': homes_count}, ignore_index=True)\n",
    "df.head()"
   ]
  },
  {
   "cell_type": "markdown",
   "id": "efc4a40e-b01c-4df7-954a-6a60e1c6bc9b",
   "metadata": {},
   "source": [
    "### Pandas fast way"
   ]
  },
  {
   "cell_type": "code",
   "execution_count": 13,
   "id": "f5ce8465-e7ec-44b5-8f94-e59da5278b15",
   "metadata": {},
   "outputs": [
    {
     "data": {
      "text/html": [
       "<div>\n",
       "<style scoped>\n",
       "    .dataframe tbody tr th:only-of-type {\n",
       "        vertical-align: middle;\n",
       "    }\n",
       "\n",
       "    .dataframe tbody tr th {\n",
       "        vertical-align: top;\n",
       "    }\n",
       "\n",
       "    .dataframe thead th {\n",
       "        text-align: right;\n",
       "    }\n",
       "</style>\n",
       "<table border=\"1\" class=\"dataframe\">\n",
       "  <thead>\n",
       "    <tr style=\"text-align: right;\">\n",
       "      <th></th>\n",
       "      <th>Bairro[2]</th>\n",
       "      <th>Zona administrativa</th>\n",
       "      <th>Área (ha)[2]</th>\n",
       "      <th>População (estimativa 2017)[2]</th>\n",
       "      <th>Densidade Demográfica (hab./km²)</th>\n",
       "      <th>Domicílios particulares[2]</th>\n",
       "    </tr>\n",
       "  </thead>\n",
       "  <tbody>\n",
       "    <tr>\n",
       "      <th>0</th>\n",
       "      <td>Adrianópolis</td>\n",
       "      <td>Centro-Sul</td>\n",
       "      <td>248,45</td>\n",
       "      <td>10 459</td>\n",
       "      <td>3 560,88</td>\n",
       "      <td>3 224</td>\n",
       "    </tr>\n",
       "    <tr>\n",
       "      <th>1</th>\n",
       "      <td>Aleixo</td>\n",
       "      <td>Centro-Sul</td>\n",
       "      <td>618,34</td>\n",
       "      <td>24 417</td>\n",
       "      <td>3 340,40</td>\n",
       "      <td>6 101</td>\n",
       "    </tr>\n",
       "    <tr>\n",
       "      <th>2</th>\n",
       "      <td>Alvorada</td>\n",
       "      <td>Centro-Oeste</td>\n",
       "      <td>553,18</td>\n",
       "      <td>76 392</td>\n",
       "      <td>11 681,73</td>\n",
       "      <td>18 193</td>\n",
       "    </tr>\n",
       "    <tr>\n",
       "      <th>3</th>\n",
       "      <td>Armando Mendes</td>\n",
       "      <td>Leste</td>\n",
       "      <td>307,65</td>\n",
       "      <td>33 441</td>\n",
       "      <td>9 194,86</td>\n",
       "      <td>7 402</td>\n",
       "    </tr>\n",
       "    <tr>\n",
       "      <th>4</th>\n",
       "      <td>Betânia</td>\n",
       "      <td>Sul</td>\n",
       "      <td>52,51</td>\n",
       "      <td>12 940</td>\n",
       "      <td>20 845,55</td>\n",
       "      <td>3 119</td>\n",
       "    </tr>\n",
       "  </tbody>\n",
       "</table>\n",
       "</div>"
      ],
      "text/plain": [
       "        Bairro[2] Zona administrativa Área (ha)[2]  \\\n",
       "0    Adrianópolis          Centro-Sul       248,45   \n",
       "1          Aleixo          Centro-Sul       618,34   \n",
       "2        Alvorada        Centro-Oeste       553,18   \n",
       "3  Armando Mendes               Leste       307,65   \n",
       "4         Betânia                 Sul        52,51   \n",
       "\n",
       "  População (estimativa 2017)[2] Densidade Demográfica (hab./km²)  \\\n",
       "0                         10 459                         3 560,88   \n",
       "1                         24 417                         3 340,40   \n",
       "2                         76 392                        11 681,73   \n",
       "3                         33 441                         9 194,86   \n",
       "4                         12 940                        20 845,55   \n",
       "\n",
       "  Domicílios particulares[2]  \n",
       "0                      3 224  \n",
       "1                      6 101  \n",
       "2                     18 193  \n",
       "3                      7 402  \n",
       "4                      3 119  "
      ]
     },
     "execution_count": 13,
     "metadata": {},
     "output_type": "execute_result"
    }
   ],
   "source": [
    "df_pandas = pd.read_html(url, attrs = {'class': 'wikitable sortable'},  flavor='bs4', thousands ='.')\n",
    "df_pandas[0].head()"
   ]
  },
  {
   "cell_type": "markdown",
   "id": "e2ba33dc-ea95-4bda-a9ab-82c8c92dfd7d",
   "metadata": {},
   "source": [
    "### Second Case: the data is grouped together under one column that indicates the postal code"
   ]
  },
  {
   "cell_type": "code",
   "execution_count": 15,
   "id": "c146b08e-74ee-441e-afd7-10aee6085292",
   "metadata": {},
   "outputs": [],
   "source": [
    "url = 'https://en.wikipedia.org/wiki/List_of_postal_codes_of_Canada:_M'\n",
    "content = requests.get(url).text\n",
    "soup = BeautifulSoup(content, 'html5lib')\n",
    "table = soup.find('table') # There is just one table in this page"
   ]
  },
  {
   "cell_type": "code",
   "execution_count": 16,
   "id": "ceeeb2dc-7aa2-4d67-8ac2-a3ea7d6babf2",
   "metadata": {},
   "outputs": [],
   "source": [
    "contents = []\n",
    "\n",
    "# reject empty columns and extract the contents from the paragraph 'p' and the span\n",
    "for row in table.find_all('td'):\n",
    "    cell = {}\n",
    "    if row.span.text == 'Not assigned':  # ignore empty column\n",
    "        pass\n",
    "    else:\n",
    "        cell['PostalCode'] = row.p.text[:3]\n",
    "        cell['Borough'] = (row.span.text).split('(')[0]\n",
    "        cell['Neighborhood'] = (((((row.span.text).split('(')[1]).strip(')')).replace(' /',',')).replace(')',' ')).strip(' ')\n",
    "        contents.append(cell)"
   ]
  },
  {
   "cell_type": "code",
   "execution_count": 17,
   "id": "96f01c8c-1d34-46aa-90db-ddd656e4cfa0",
   "metadata": {},
   "outputs": [
    {
     "data": {
      "text/html": [
       "<div>\n",
       "<style scoped>\n",
       "    .dataframe tbody tr th:only-of-type {\n",
       "        vertical-align: middle;\n",
       "    }\n",
       "\n",
       "    .dataframe tbody tr th {\n",
       "        vertical-align: top;\n",
       "    }\n",
       "\n",
       "    .dataframe thead th {\n",
       "        text-align: right;\n",
       "    }\n",
       "</style>\n",
       "<table border=\"1\" class=\"dataframe\">\n",
       "  <thead>\n",
       "    <tr style=\"text-align: right;\">\n",
       "      <th></th>\n",
       "      <th>PostalCode</th>\n",
       "      <th>Borough</th>\n",
       "      <th>Neighborhood</th>\n",
       "    </tr>\n",
       "  </thead>\n",
       "  <tbody>\n",
       "    <tr>\n",
       "      <th>98</th>\n",
       "      <td>M8X</td>\n",
       "      <td>Etobicoke</td>\n",
       "      <td>The Kingsway, Montgomery Road, Old Mill North</td>\n",
       "    </tr>\n",
       "    <tr>\n",
       "      <th>99</th>\n",
       "      <td>M4Y</td>\n",
       "      <td>Downtown Toronto</td>\n",
       "      <td>Church and Wellesley</td>\n",
       "    </tr>\n",
       "    <tr>\n",
       "      <th>100</th>\n",
       "      <td>M7Y</td>\n",
       "      <td>East TorontoBusiness reply mail Processing Cen...</td>\n",
       "      <td>Enclave of M4L</td>\n",
       "    </tr>\n",
       "    <tr>\n",
       "      <th>101</th>\n",
       "      <td>M8Y</td>\n",
       "      <td>Etobicoke</td>\n",
       "      <td>Old Mill South, King's Mill Park, Sunnylea, Hu...</td>\n",
       "    </tr>\n",
       "    <tr>\n",
       "      <th>102</th>\n",
       "      <td>M8Z</td>\n",
       "      <td>Etobicoke</td>\n",
       "      <td>Mimico NW, The Queensway West, South of Bloor,...</td>\n",
       "    </tr>\n",
       "  </tbody>\n",
       "</table>\n",
       "</div>"
      ],
      "text/plain": [
       "    PostalCode                                            Borough  \\\n",
       "98         M8X                                          Etobicoke   \n",
       "99         M4Y                                   Downtown Toronto   \n",
       "100        M7Y  East TorontoBusiness reply mail Processing Cen...   \n",
       "101        M8Y                                          Etobicoke   \n",
       "102        M8Z                                          Etobicoke   \n",
       "\n",
       "                                          Neighborhood  \n",
       "98       The Kingsway, Montgomery Road, Old Mill North  \n",
       "99                                Church and Wellesley  \n",
       "100                                     Enclave of M4L  \n",
       "101  Old Mill South, King's Mill Park, Sunnylea, Hu...  \n",
       "102  Mimico NW, The Queensway West, South of Bloor,...  "
      ]
     },
     "execution_count": 17,
     "metadata": {},
     "output_type": "execute_result"
    }
   ],
   "source": [
    "df = pd.DataFrame(contents)\n",
    "df.tail()"
   ]
  },
  {
   "cell_type": "code",
   "execution_count": 18,
   "id": "d5763111-5331-43a3-81f3-0baa6e351f1d",
   "metadata": {},
   "outputs": [
    {
     "data": {
      "text/html": [
       "<div>\n",
       "<style scoped>\n",
       "    .dataframe tbody tr th:only-of-type {\n",
       "        vertical-align: middle;\n",
       "    }\n",
       "\n",
       "    .dataframe tbody tr th {\n",
       "        vertical-align: top;\n",
       "    }\n",
       "\n",
       "    .dataframe thead th {\n",
       "        text-align: right;\n",
       "    }\n",
       "</style>\n",
       "<table border=\"1\" class=\"dataframe\">\n",
       "  <thead>\n",
       "    <tr style=\"text-align: right;\">\n",
       "      <th></th>\n",
       "      <th>PostalCode</th>\n",
       "      <th>Borough</th>\n",
       "      <th>Neighborhood</th>\n",
       "    </tr>\n",
       "  </thead>\n",
       "  <tbody>\n",
       "    <tr>\n",
       "      <th>98</th>\n",
       "      <td>M8X</td>\n",
       "      <td>Etobicoke</td>\n",
       "      <td>The Kingsway, Montgomery Road, Old Mill North</td>\n",
       "    </tr>\n",
       "    <tr>\n",
       "      <th>99</th>\n",
       "      <td>M4Y</td>\n",
       "      <td>Downtown Toronto</td>\n",
       "      <td>Church and Wellesley</td>\n",
       "    </tr>\n",
       "    <tr>\n",
       "      <th>100</th>\n",
       "      <td>M7Y</td>\n",
       "      <td>East Toronto Business</td>\n",
       "      <td>Enclave of M4L</td>\n",
       "    </tr>\n",
       "    <tr>\n",
       "      <th>101</th>\n",
       "      <td>M8Y</td>\n",
       "      <td>Etobicoke</td>\n",
       "      <td>Old Mill South, King's Mill Park, Sunnylea, Hu...</td>\n",
       "    </tr>\n",
       "    <tr>\n",
       "      <th>102</th>\n",
       "      <td>M8Z</td>\n",
       "      <td>Etobicoke</td>\n",
       "      <td>Mimico NW, The Queensway West, South of Bloor,...</td>\n",
       "    </tr>\n",
       "  </tbody>\n",
       "</table>\n",
       "</div>"
      ],
      "text/plain": [
       "    PostalCode                Borough  \\\n",
       "98         M8X              Etobicoke   \n",
       "99         M4Y       Downtown Toronto   \n",
       "100        M7Y  East Toronto Business   \n",
       "101        M8Y              Etobicoke   \n",
       "102        M8Z              Etobicoke   \n",
       "\n",
       "                                          Neighborhood  \n",
       "98       The Kingsway, Montgomery Road, Old Mill North  \n",
       "99                                Church and Wellesley  \n",
       "100                                     Enclave of M4L  \n",
       "101  Old Mill South, King's Mill Park, Sunnylea, Hu...  \n",
       "102  Mimico NW, The Queensway West, South of Bloor,...  "
      ]
     },
     "execution_count": 18,
     "metadata": {},
     "output_type": "execute_result"
    }
   ],
   "source": [
    "# Changing some values to more comprehensive names\n",
    "df['Borough']=df['Borough'].replace({'Downtown TorontoStn A PO Boxes25 The Esplanade':'Downtown Toronto Stn A',\n",
    "                                     'East TorontoBusiness reply mail Processing Centre969 Eastern':'East Toronto Business',\n",
    "                                     'EtobicokeNorthwest':'Etobicoke Northwest','East YorkEast Toronto':'East York/East Toronto',\n",
    "                                     'MississaugaCanada Post Gateway Processing Centre':'Mississauga'})\n",
    "df.tail()"
   ]
  },
  {
   "cell_type": "markdown",
   "id": "5a9bd888-9f8a-471f-bbe9-29aa90a76a36",
   "metadata": {},
   "source": [
    "## Resource: https://medium.com/geekculture/web-scraping-tables-in-python-using-beautiful-soup-8bbc31c5803e"
   ]
  },
  {
   "cell_type": "markdown",
   "id": "7d69c0e1-1918-42e8-8886-e7b76457ea14",
   "metadata": {},
   "source": [
    "## NEW Amazon Resource: https://www.datacamp.com/community/tutorials/amazon-web-scraping-using-beautifulsoup"
   ]
  },
  {
   "cell_type": "code",
   "execution_count": null,
   "id": "aa2d0068-d296-4d30-94f7-3d2d0d3cf0e8",
   "metadata": {},
   "outputs": [],
   "source": []
  }
 ],
 "metadata": {
  "kernelspec": {
   "display_name": "Python 3 (ipykernel)",
   "language": "python",
   "name": "python3"
  },
  "language_info": {
   "codemirror_mode": {
    "name": "ipython",
    "version": 3
   },
   "file_extension": ".py",
   "mimetype": "text/x-python",
   "name": "python",
   "nbconvert_exporter": "python",
   "pygments_lexer": "ipython3",
   "version": "3.9.5"
  }
 },
 "nbformat": 4,
 "nbformat_minor": 5
}
