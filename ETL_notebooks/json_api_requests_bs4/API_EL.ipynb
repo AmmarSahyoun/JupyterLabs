{
 "cells": [
  {
   "cell_type": "markdown",
   "metadata": {},
   "source": [
    "<center>\n",
    "    <img src=\"https://gitlab.com/ibm/skills-network/courses/placeholder101/-/raw/master/labs/module%201/images/IDSNlogo.png\" width=\"300\" alt=\"cognitiveclass.ai logo\"  />\n",
    "</center>\n"
   ]
  },
  {
   "cell_type": "markdown",
   "metadata": {},
   "source": [
    "# Peer Review Assignment - Data Engineer - Extract API Data\n"
   ]
  },
  {
   "cell_type": "markdown",
   "metadata": {},
   "source": [
    "Estimated time needed: **20** minutes\n"
   ]
  },
  {
   "cell_type": "markdown",
   "metadata": {},
   "source": [
    "## Objectives\n",
    "\n",
    "In this part you will:\n",
    "\n",
    "*   Collect exchange rate data using an API\n",
    "*   Store the data as a CSV\n"
   ]
  },
  {
   "cell_type": "markdown",
   "metadata": {},
   "source": [
    "For this lab, we are going to be using Python and several Python libraries. Some of these libraries might be installed in your lab environment or in SN Labs. Others may need to be installed by you. The cells below will install these libraries when executed.\n"
   ]
  },
  {
   "cell_type": "code",
   "execution_count": null,
   "metadata": {},
   "outputs": [],
   "source": [
    "#!pip install pandas\n",
    "#!pip install requests"
   ]
  },
  {
   "cell_type": "markdown",
   "metadata": {},
   "source": [
    "## Imports\n",
    "\n",
    "Import any additional libraries you may need here.\n"
   ]
  },
  {
   "cell_type": "code",
   "execution_count": 1,
   "metadata": {},
   "outputs": [],
   "source": [
    "import requests\n",
    "import pandas as pd"
   ]
  },
  {
   "cell_type": "markdown",
   "metadata": {},
   "source": [
    "## Extract Data Using an API\n"
   ]
  },
  {
   "cell_type": "markdown",
   "metadata": {},
   "source": [
    "Using ExchangeRate-API we will extract currency exchange rate data. Use the below steps to get the access key and to get the data.\n",
    "\n",
    "1.  Open the url : [https://exchangeratesapi.io/](https://exchangeratesapi.io/?utm_medium=Exinfluencer&utm_source=Exinfluencer&utm_content=000026UJ&utm_term=10006555&utm_id=NA-SkillsNetwork-Channel-SkillsNetworkCoursesIBMDeveloperSkillsNetworkPY0221ENSkillsNetwork23455645-2021-01-01) and create a free account.\n",
    "2.  Once the account is created. You will get the Get the Free API key option on the top as shown below:\n",
    "\n",
    "<img src=\"https://cf-courses-data.s3.us.cloud-object-storage.appdomain.cloud/IBMDeveloperSkillsNetwork-PY0221EN-SkillsNetwork/labs/module%206/Final%20Assignment/Images/getapi.png\"/>\n",
    "\n",
    "3.  Copy the API key and use in the url in Question 1.\n"
   ]
  },
  {
   "cell_type": "markdown",
   "metadata": {},
   "source": [
    "### Call the API\n",
    "\n",
    "<b> Question 1</b> Using the `requests` library call the endpoint given above and save the text, remember the first few characters of the output:\n"
   ]
  },
  {
   "cell_type": "code",
   "execution_count": 10,
   "metadata": {},
   "outputs": [
    {
     "data": {
      "text/plain": [
       "'{\"success\":true,\"timestamp\":1638094143,\"base\":\"EUR\",\"date\":\"2021-11-28\",\"rates\":{\"AED\":4.157356,\"AFN\":108.94166,\"ALL\":121.165711,\"AMD\":546.994295,\"ANG\":2.04011,\"AOA\":662.136558,\"ARS\":114.080547,\"AUD\":1.589017,\"AWG\":2.037625,\"AZN\":1.92865,\"BAM\":1.963004,\"BBD\":2.285544,\"BDT\":97.118363,\"BGN\":1.954881,\"BHD\":0.426935,\"BIF\":2261.449594,\"BMD\":1.131857,\"BND\":1.550896,\"BOB\":7.816277,\"BRL\":6.349381,\"BSD\":1.131982,\"BTC\":2.0848163e-5,\"BTN\":84.771115,\"BWP\":13.388263,\"BYN\":2.898293,\"BYR\":22184.390408,\"BZD\":2.28173,\"CAD\":1.448268,\"CDF\":2270.504856,\"CHF\":1.044937,\"CLF\":0.03413,\"CLP\":941.761776,\"CNY\":7.236006,\"COP\":4535.34961,\"CRC\":724.085138,\"CUC\":1.131857,\"CUP\":29.994201,\"CVE\":110.865805,\"CZK\":25.644254,\"DJF\":201.15401,\"DKK\":7.436529,\"DOP\":64.120124,\"DZD\":157.492627,\"EGP\":17.798608,\"ERN\":16.978201,\"ETB\":53.480671,\"EUR\":1,\"FJD\":2.405241,\"FKP\":0.843724,\"GBP\":0.848309,\"GEL\":3.503142,\"GGP\":0.843724,\"GHS\":6.96136,\"GIP\":0.843724,\"GMD\":59.33763,\"GNF\":10639.452945,\"GTQ\":8.7592,\"GYD\":236.824952,\"HKD\":8.827203,\"HNL\":27.373998,\"HRK\":7.529907,\"HTG\":111.842698,\"HUF\":369.313946,\"IDR\":16315.374103,\"ILS\":3.60352,\"IMP\":0.843724,\"INR\":84.949282,\"IQD\":1651.944786,\"IRR\":47849.240424,\"ISK\":146.994661,\"JEP\":0.843724,\"JMD\":176.276254,\"JOD\":0.802531,\"JPY\":128.312974,\"KES\":127.338179,\"KGS\":95.952813,\"KHR\":4607.788833,\"KMF\":493.489898,\"KPW\":1018.671385,\"KRW\":1353.519895,\"KWD\":0.342568,\"KYD\":0.943285,\"KZT\":493.820059,\"LAK\":12274.985802,\"LBP\":1734.574599,\"LKR\":229.21929,\"LRD\":161.007041,\"LSL\":18.404421,\"LTL\":3.342079,\"LVL\":0.684649,\"LYD\":5.223563,\"MAD\":10.457794,\"MDL\":20.114313,\"MGA\":4510.449157,\"MKD\":61.841562,\"MMK\":2027.034222,\"MNT\":3235.093753,\"MOP\":9.092493,\"MRO\":404.072631,\"MUR\":48.655332,\"MVR\":17.487614,\"MWK\":924.165189,\"MXN\":24.80023,\"MYR\":4.797984,\"MZN\":72.246837,\"NAD\":18.404416,\"NGN\":463.93715,\"NIO\":39.869694,\"NOK\":10.230564,\"NPR\":135.634105,\"NZD\":1.659214,\"OMR\":0.435799,\"PAB\":1.131982,\"PEN\":4.561807,\"PGK\":3.995879,\"PHP\":57.15601,\"PKR\":199.776891,\"PLN\":4.712007,\"PYG\":7726.44301,\"QAR\":4.121134,\"RON\":4.949387,\"RSD\":117.577692,\"RUB\":85.517473,\"RWF\":1140.345578,\"SAR\":4.245574,\"SBD\":9.12793,\"SCR\":16.587227,\"SDG\":495.753599,\"SEK\":10.365774,\"SGD\":1.552093,\"SHP\":1.559024,\"SLL\":12588.510083,\"SOS\":661.004669,\"SRD\":24.357975,\"STD\":23427.147517,\"SVC\":9.904593,\"SYP\":1422.498832,\"SZL\":17.661101,\"THB\":38.119843,\"TJS\":12.774181,\"TMT\":3.972817,\"TND\":3.262054,\"TOP\":2.577468,\"TRY\":14.063663,\"TTD\":7.675256,\"TWD\":31.543604,\"TZS\":2606.666253,\"UAH\":30.66698,\"UGX\":4033.039753,\"USD\":1.131857,\"UYU\":49.941849,\"UZS\":12214.997383,\"VEF\":242025159863.65485,\"VND\":25669.377044,\"VUV\":125.99784,\"WST\":2.901674,\"XAF\":658.374829,\"XAG\":0.048906,\"XAU\":0.000631,\"XCD\":3.0589,\"XDR\":0.812097,\"XOF\":660.442434,\"XPF\":119.920625,\"YER\":283.247539,\"ZAR\":18.419779,\"ZMK\":10188.072176,\"ZMW\":20.120034,\"ZWL\":364.457381}}'"
      ]
     },
     "execution_count": 10,
     "metadata": {},
     "output_type": "execute_result"
    }
   ],
   "source": [
    "# Write your code here\n",
    "url = \"http://api.exchangeratesapi.io/v1/latest?base=EUR&access_key=1275bdcb268b5d5a5f1e3eb65affb7c6\"  #Make sure to change ******* to your API key.\n",
    "content = requests.get(url).text\n",
    "content"
   ]
  },
  {
   "cell_type": "markdown",
   "metadata": {},
   "source": [
    "### Save as DataFrame\n",
    "\n",
    "<b> Question 2</b>  Using the data gathered turn it into a `pandas` dataframe. The dataframe should have the Currency as the index and `Rate` as their columns. Make sure to drop unnecessary columns.\n"
   ]
  },
  {
   "cell_type": "code",
   "execution_count": 12,
   "metadata": {},
   "outputs": [
    {
     "data": {
      "text/html": [
       "<div>\n",
       "<style scoped>\n",
       "    .dataframe tbody tr th:only-of-type {\n",
       "        vertical-align: middle;\n",
       "    }\n",
       "\n",
       "    .dataframe tbody tr th {\n",
       "        vertical-align: top;\n",
       "    }\n",
       "\n",
       "    .dataframe thead th {\n",
       "        text-align: right;\n",
       "    }\n",
       "</style>\n",
       "<table border=\"1\" class=\"dataframe\">\n",
       "  <thead>\n",
       "    <tr style=\"text-align: right;\">\n",
       "      <th></th>\n",
       "      <th>success</th>\n",
       "      <th>timestamp</th>\n",
       "      <th>base</th>\n",
       "      <th>date</th>\n",
       "      <th>rates</th>\n",
       "    </tr>\n",
       "  </thead>\n",
       "  <tbody>\n",
       "    <tr>\n",
       "      <th>AED</th>\n",
       "      <td>True</td>\n",
       "      <td>2021-11-28 10:09:03</td>\n",
       "      <td>EUR</td>\n",
       "      <td>2021-11-28</td>\n",
       "      <td>4.157356</td>\n",
       "    </tr>\n",
       "    <tr>\n",
       "      <th>AFN</th>\n",
       "      <td>True</td>\n",
       "      <td>2021-11-28 10:09:03</td>\n",
       "      <td>EUR</td>\n",
       "      <td>2021-11-28</td>\n",
       "      <td>108.941660</td>\n",
       "    </tr>\n",
       "    <tr>\n",
       "      <th>ALL</th>\n",
       "      <td>True</td>\n",
       "      <td>2021-11-28 10:09:03</td>\n",
       "      <td>EUR</td>\n",
       "      <td>2021-11-28</td>\n",
       "      <td>121.165711</td>\n",
       "    </tr>\n",
       "    <tr>\n",
       "      <th>AMD</th>\n",
       "      <td>True</td>\n",
       "      <td>2021-11-28 10:09:03</td>\n",
       "      <td>EUR</td>\n",
       "      <td>2021-11-28</td>\n",
       "      <td>546.994295</td>\n",
       "    </tr>\n",
       "    <tr>\n",
       "      <th>ANG</th>\n",
       "      <td>True</td>\n",
       "      <td>2021-11-28 10:09:03</td>\n",
       "      <td>EUR</td>\n",
       "      <td>2021-11-28</td>\n",
       "      <td>2.040110</td>\n",
       "    </tr>\n",
       "  </tbody>\n",
       "</table>\n",
       "</div>"
      ],
      "text/plain": [
       "     success           timestamp base       date       rates\n",
       "AED     True 2021-11-28 10:09:03  EUR 2021-11-28    4.157356\n",
       "AFN     True 2021-11-28 10:09:03  EUR 2021-11-28  108.941660\n",
       "ALL     True 2021-11-28 10:09:03  EUR 2021-11-28  121.165711\n",
       "AMD     True 2021-11-28 10:09:03  EUR 2021-11-28  546.994295\n",
       "ANG     True 2021-11-28 10:09:03  EUR 2021-11-28    2.040110"
      ]
     },
     "execution_count": 12,
     "metadata": {},
     "output_type": "execute_result"
    }
   ],
   "source": [
    "# Turn the data into a dataframe\n",
    "df = pd.read_json(content)\n",
    "df.head()"
   ]
  },
  {
   "cell_type": "code",
   "execution_count": 15,
   "metadata": {},
   "outputs": [
    {
     "data": {
      "text/html": [
       "<div>\n",
       "<style scoped>\n",
       "    .dataframe tbody tr th:only-of-type {\n",
       "        vertical-align: middle;\n",
       "    }\n",
       "\n",
       "    .dataframe tbody tr th {\n",
       "        vertical-align: top;\n",
       "    }\n",
       "\n",
       "    .dataframe thead th {\n",
       "        text-align: right;\n",
       "    }\n",
       "</style>\n",
       "<table border=\"1\" class=\"dataframe\">\n",
       "  <thead>\n",
       "    <tr style=\"text-align: right;\">\n",
       "      <th></th>\n",
       "      <th>rates</th>\n",
       "    </tr>\n",
       "  </thead>\n",
       "  <tbody>\n",
       "    <tr>\n",
       "      <th>AED</th>\n",
       "      <td>4.157356</td>\n",
       "    </tr>\n",
       "    <tr>\n",
       "      <th>AFN</th>\n",
       "      <td>108.941660</td>\n",
       "    </tr>\n",
       "    <tr>\n",
       "      <th>ALL</th>\n",
       "      <td>121.165711</td>\n",
       "    </tr>\n",
       "    <tr>\n",
       "      <th>AMD</th>\n",
       "      <td>546.994295</td>\n",
       "    </tr>\n",
       "    <tr>\n",
       "      <th>ANG</th>\n",
       "      <td>2.040110</td>\n",
       "    </tr>\n",
       "  </tbody>\n",
       "</table>\n",
       "</div>"
      ],
      "text/plain": [
       "          rates\n",
       "AED    4.157356\n",
       "AFN  108.941660\n",
       "ALL  121.165711\n",
       "AMD  546.994295\n",
       "ANG    2.040110"
      ]
     },
     "execution_count": 15,
     "metadata": {},
     "output_type": "execute_result"
    }
   ],
   "source": [
    "# Drop unnescessary columns\n",
    "df.drop(['success','timestamp','base','date'],axis=1, inplace=True)\n",
    "df.head()"
   ]
  },
  {
   "cell_type": "markdown",
   "metadata": {},
   "source": [
    "### Load the Data\n",
    "\n",
    "Using the dataframe save it as a CSV names `exchange_rates_1.csv`.\n"
   ]
  },
  {
   "cell_type": "code",
   "execution_count": 16,
   "metadata": {},
   "outputs": [],
   "source": [
    "# Save the Dataframe\n",
    "df.to_csv(\"exchange_rates_1.csv\", index=False)"
   ]
  },
  {
   "cell_type": "markdown",
   "metadata": {},
   "source": [
    "Your CSV should be in this format with more currencies\n",
    "\n",
    "|     | Rates      |\n",
    "| --- | ---------- |\n",
    "| AED | 4.398618   |\n",
    "| AFN | 92.917693  |\n",
    "| ALL | 123.099093 |\n",
    "| AMD | 621.935674 |\n",
    "| ANG | 2.149648   |\n"
   ]
  },
  {
   "cell_type": "markdown",
   "metadata": {},
   "source": [
    "## Authors\n"
   ]
  },
  {
   "cell_type": "markdown",
   "metadata": {},
   "source": [
    "Ramesh Sannareddy, Joseph Santarcangelo and Azim Hirjani\n"
   ]
  },
  {
   "cell_type": "markdown",
   "metadata": {},
   "source": [
    "### Other Contributors\n"
   ]
  },
  {
   "cell_type": "markdown",
   "metadata": {},
   "source": [
    "Rav Ahuja\n"
   ]
  },
  {
   "cell_type": "markdown",
   "metadata": {},
   "source": [
    "## Change Log\n"
   ]
  },
  {
   "cell_type": "markdown",
   "metadata": {},
   "source": [
    "| Date (YYYY-MM-DD) | Version | Changed By        | Change Description                 |\n",
    "| ----------------- | ------- | ----------------- | ---------------------------------- |\n",
    "| 2021-04-15        | 0.2     | Malika            | Updated the lab from USD to EUR    |\n",
    "| 2020-11-25        | 0.1     | Ramesh Sannareddy | Created initial version of the lab |\n"
   ]
  },
  {
   "cell_type": "markdown",
   "metadata": {},
   "source": [
    "Copyright © 2020 IBM Corporation. This notebook and its source code are released under the terms of the [MIT License](https://cognitiveclass.ai/mit-license?utm_medium=Exinfluencer&utm_source=Exinfluencer&utm_content=000026UJ&utm_term=10006555&utm_id=NA-SkillsNetwork-Channel-SkillsNetworkCoursesIBMDeveloperSkillsNetworkPY0221ENSkillsNetwork23455645-2021-01-01&cm_mmc=Email_Newsletter-\\_-Developer_Ed%2BTech-\\_-WW_WW-\\_-SkillsNetwork-Courses-IBM-DA0321EN-SkillsNetwork-21426264&cm_mmca1=000026UJ&cm_mmca2=10006555&cm_mmca3=M12345678&cvosrc=email.Newsletter.M12345678&cvo_campaign=000026UJ).\n"
   ]
  }
 ],
 "metadata": {
  "kernelspec": {
   "display_name": "Python 3 (ipykernel)",
   "language": "python",
   "name": "python3"
  },
  "language_info": {
   "codemirror_mode": {
    "name": "ipython",
    "version": 3
   },
   "file_extension": ".py",
   "mimetype": "text/x-python",
   "name": "python",
   "nbconvert_exporter": "python",
   "pygments_lexer": "ipython3",
   "version": "3.9.5"
  }
 },
 "nbformat": 4,
 "nbformat_minor": 4
}
