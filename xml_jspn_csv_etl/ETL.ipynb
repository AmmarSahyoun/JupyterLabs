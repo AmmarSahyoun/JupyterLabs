{
 "cells": [
  {
   "cell_type": "code",
   "execution_count": 1,
   "id": "3a97853c-bca6-460a-be83-9628e79b127b",
   "metadata": {},
   "outputs": [],
   "source": [
    "import glob\n",
    "import pandas as pd\n",
    "import xml.etree.ElementTree as ET\n",
    "from datetime import datetime"
   ]
  },
  {
   "cell_type": "code",
   "execution_count": 2,
   "id": "5d804aee-8dd0-48c1-a74d-d7475a604500",
   "metadata": {},
   "outputs": [],
   "source": [
    "def extract_from_csv(file):\n",
    "    dataframe = pd.read_csv(file)\n",
    "    return dataframe"
   ]
  },
  {
   "cell_type": "code",
   "execution_count": 3,
   "id": "2afb6163-c893-4913-a17e-002607edb3b5",
   "metadata": {},
   "outputs": [],
   "source": [
    "def extract_from_json(file):\n",
    "    dataframe = pd.read_json(file, lines=True)\n",
    "    return dataframe"
   ]
  },
  {
   "cell_type": "code",
   "execution_count": 4,
   "id": "a30c0242-c9f7-4d5f-9673-d901424595c8",
   "metadata": {},
   "outputs": [],
   "source": [
    "def extract_from_xml(file_to_process):\n",
    "    dataframe = pd.DataFrame(columns=['car_model','year_of_manufacture','price','fuel'])\n",
    "    tree = ET.parse(file_to_process)\n",
    "    root = tree.getroot()\n",
    "    cars = root.findall(\".//row\")\n",
    "    for row in cars:\n",
    "        car_model = row.find(\"car_model\").text\n",
    "        year_of_manufacture = row.find(\"year_of_manufacture\").text\n",
    "        price = float(row.find(\"price\").text)\n",
    "        fuel = row.find(\"fuel\").text\n",
    "        dataframe = dataframe.append({\"car_model\":car_model,\"year_of_manufacture\":year_of_manufacture,\"price\":price,\"fuel\":fuel},\n",
    "                                     ignore_index=True)\n",
    "    return dataframe"
   ]
  },
  {
   "cell_type": "code",
   "execution_count": 5,
   "id": "652012bb-3a45-43c5-8749-98dae648d1e5",
   "metadata": {},
   "outputs": [],
   "source": [
    "def extract():\n",
    "    extracted_data = pd.DataFrame(columns=['car_model','year_of_manufacture','price', 'fuel']) \n",
    " \n",
    "    for csvfile in glob.glob(\"*.csv\"):\n",
    "        extracted_data = extracted_data.append(extract_from_csv(csvfile), ignore_index=True)\n",
    "    \n",
    "    for jsonfile in glob.glob(\"*.json\"):\n",
    "        extracted_data = extracted_data.append(extract_from_json(jsonfile), ignore_index=True)\n",
    " \n",
    "    for xmlfile in glob.glob(\"*.xml\"):\n",
    "        extracted_data = extracted_data.append(extract_from_xml(xmlfile), ignore_index=True)\n",
    "        \n",
    "    return extracted_data"
   ]
  },
  {
   "cell_type": "code",
   "execution_count": 6,
   "id": "4f10c58f-e347-4a49-ac93-519d1f0303fd",
   "metadata": {},
   "outputs": [],
   "source": [
    "def transform(data):\n",
    "        data['year_of_manufacture'] = pd.to_datetime(data['year_of_manufacture'], format='%Y', errors='ignore').dt.year\n",
    "        return data"
   ]
  },
  {
   "cell_type": "code",
   "execution_count": 7,
   "id": "5135294f-d350-45b3-9dcc-44b11c9b250a",
   "metadata": {},
   "outputs": [],
   "source": [
    "def load(targetfile,data_to_load):\n",
    "    data_to_load.to_csv(targetfile, columns=['car_model','year_of_manufacture','price','fuel'], index=False)  "
   ]
  },
  {
   "cell_type": "code",
   "execution_count": 8,
   "id": "257c9ce0-ce57-47c8-b2a6-694e35c5196b",
   "metadata": {},
   "outputs": [],
   "source": [
    "def log(message):\n",
    "    now = datetime.now() \n",
    "    timestamp = now.strftime('%Y-%h-%d-%H:%M:%S')\n",
    "    with open(\"logfile.txt\",\"a\") as f: \n",
    "        f.write(timestamp + ',' + message + '\\n')"
   ]
  },
  {
   "cell_type": "code",
   "execution_count": 9,
   "id": "7e948651-c2e2-47dd-96cd-a44816acdb37",
   "metadata": {},
   "outputs": [],
   "source": [
    "log(\"ETL Job Started\")\n",
    "log(\"Extract phase Started\")\n",
    "extracted_data = extract()\n",
    "log(\"Extract phase Ended\")"
   ]
  },
  {
   "cell_type": "code",
   "execution_count": 10,
   "id": "2865e50b-26fd-49c5-877c-fbd2f4a6b5fe",
   "metadata": {},
   "outputs": [],
   "source": [
    "log(\"Transform phase Started\")\n",
    "transformed_data = transform(extracted_data)\n",
    "log(\"Transform phase Ended\")"
   ]
  },
  {
   "cell_type": "code",
   "execution_count": 11,
   "id": "99e4d4e8-0176-48ea-b1cd-16e85d9d6954",
   "metadata": {},
   "outputs": [
    {
     "data": {
      "text/html": [
       "<div>\n",
       "<style scoped>\n",
       "    .dataframe tbody tr th:only-of-type {\n",
       "        vertical-align: middle;\n",
       "    }\n",
       "\n",
       "    .dataframe tbody tr th {\n",
       "        vertical-align: top;\n",
       "    }\n",
       "\n",
       "    .dataframe thead th {\n",
       "        text-align: right;\n",
       "    }\n",
       "</style>\n",
       "<table border=\"1\" class=\"dataframe\">\n",
       "  <thead>\n",
       "    <tr style=\"text-align: right;\">\n",
       "      <th></th>\n",
       "      <th>car_model</th>\n",
       "      <th>year_of_manufacture</th>\n",
       "      <th>price</th>\n",
       "      <th>fuel</th>\n",
       "    </tr>\n",
       "  </thead>\n",
       "  <tbody>\n",
       "    <tr>\n",
       "      <th>0</th>\n",
       "      <td>ritz</td>\n",
       "      <td>2014</td>\n",
       "      <td>5000.000000</td>\n",
       "      <td>Petrol</td>\n",
       "    </tr>\n",
       "    <tr>\n",
       "      <th>1</th>\n",
       "      <td>sx4</td>\n",
       "      <td>2013</td>\n",
       "      <td>7089.552239</td>\n",
       "      <td>Diesel</td>\n",
       "    </tr>\n",
       "    <tr>\n",
       "      <th>2</th>\n",
       "      <td>ciaz</td>\n",
       "      <td>2017</td>\n",
       "      <td>10820.895522</td>\n",
       "      <td>Petrol</td>\n",
       "    </tr>\n",
       "    <tr>\n",
       "      <th>3</th>\n",
       "      <td>wagon r</td>\n",
       "      <td>2011</td>\n",
       "      <td>4253.731343</td>\n",
       "      <td>Petrol</td>\n",
       "    </tr>\n",
       "    <tr>\n",
       "      <th>4</th>\n",
       "      <td>swift</td>\n",
       "      <td>2014</td>\n",
       "      <td>6865.671642</td>\n",
       "      <td>Diesel</td>\n",
       "    </tr>\n",
       "    <tr>\n",
       "      <th>...</th>\n",
       "      <td>...</td>\n",
       "      <td>...</td>\n",
       "      <td>...</td>\n",
       "      <td>...</td>\n",
       "    </tr>\n",
       "    <tr>\n",
       "      <th>85</th>\n",
       "      <td>camry</td>\n",
       "      <td>2006</td>\n",
       "      <td>3731.343284</td>\n",
       "      <td>Petrol</td>\n",
       "    </tr>\n",
       "    <tr>\n",
       "      <th>86</th>\n",
       "      <td>land cruiser</td>\n",
       "      <td>2010</td>\n",
       "      <td>52238.805970</td>\n",
       "      <td>Diesel</td>\n",
       "    </tr>\n",
       "    <tr>\n",
       "      <th>87</th>\n",
       "      <td>corolla altis</td>\n",
       "      <td>2012</td>\n",
       "      <td>8805.970149</td>\n",
       "      <td>Petrol</td>\n",
       "    </tr>\n",
       "    <tr>\n",
       "      <th>88</th>\n",
       "      <td>etios liva</td>\n",
       "      <td>2013</td>\n",
       "      <td>5149.253731</td>\n",
       "      <td>Petrol</td>\n",
       "    </tr>\n",
       "    <tr>\n",
       "      <th>89</th>\n",
       "      <td>etios g</td>\n",
       "      <td>2014</td>\n",
       "      <td>7089.552239</td>\n",
       "      <td>Petrol</td>\n",
       "    </tr>\n",
       "  </tbody>\n",
       "</table>\n",
       "<p>90 rows × 4 columns</p>\n",
       "</div>"
      ],
      "text/plain": [
       "        car_model  year_of_manufacture         price    fuel\n",
       "0            ritz                 2014   5000.000000  Petrol\n",
       "1             sx4                 2013   7089.552239  Diesel\n",
       "2            ciaz                 2017  10820.895522  Petrol\n",
       "3         wagon r                 2011   4253.731343  Petrol\n",
       "4           swift                 2014   6865.671642  Diesel\n",
       "..            ...                  ...           ...     ...\n",
       "85          camry                 2006   3731.343284  Petrol\n",
       "86   land cruiser                 2010  52238.805970  Diesel\n",
       "87  corolla altis                 2012   8805.970149  Petrol\n",
       "88     etios liva                 2013   5149.253731  Petrol\n",
       "89        etios g                 2014   7089.552239  Petrol\n",
       "\n",
       "[90 rows x 4 columns]"
      ]
     },
     "execution_count": 11,
     "metadata": {},
     "output_type": "execute_result"
    }
   ],
   "source": [
    "log(\"Load phase Started\")\n",
    "load(\"transformed_data.csv\",transformed_data)\n",
    "log(\"Load phase Ended\")\n",
    "log(\"ETL Job Ended\")\n",
    "transformed_data"
   ]
  },
  {
   "cell_type": "code",
   "execution_count": null,
   "id": "c9a55906-d52b-4c56-87a2-96f8200ca830",
   "metadata": {},
   "outputs": [],
   "source": []
  }
 ],
 "metadata": {
  "kernelspec": {
   "display_name": "snappy",
   "language": "python",
   "name": "snappy"
  },
  "language_info": {
   "codemirror_mode": {
    "name": "ipython",
    "version": 3
   },
   "file_extension": ".py",
   "mimetype": "text/x-python",
   "name": "python",
   "nbconvert_exporter": "python",
   "pygments_lexer": "ipython3",
   "version": "3.6.12"
  }
 },
 "nbformat": 4,
 "nbformat_minor": 5
}
